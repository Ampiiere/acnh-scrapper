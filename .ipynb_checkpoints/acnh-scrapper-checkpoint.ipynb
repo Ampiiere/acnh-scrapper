{
 "cells": [
  {
   "cell_type": "markdown",
   "metadata": {
    "tags": []
   },
   "source": [
    "# Mini-Web Scrapper - Scrapping Animal Crossing Portal for villager popularity list.\n",
    "\n",
    "### Introduction:\n",
    "For this web scrapping project, we are going to be scrapping https://www.animalcrossingportal.com/, a fan made animal crossing community website. Specifically, The [Animal Crossing New horizons villager popularity list page.](https://www.animalcrossingportal.com/games/new-horizons/guides/villager-popularity-list.php#/)\n",
    "\n",
    "The goal of this project is to obtain a full list of the villager's popularity ranking in anch. \n",
    "The page contains 6 tiers, classifying villagers into rankings of most popular to least popular, as we go down the page. Within each tier, Vilagers are ranked from most popular to least popular within their own tier. \n",
    "\n",
    "- The \"Highest Popularity\" tier contains 15 villagers\n",
    "- The \"Very Popular\" tier contains 25 villagers\n",
    "- The \"Fairly Popular\" tier contains 30 villagers\n",
    "- The \"Middle Ground\" tier contains 60 villagers\n",
    "- The \"Less Popular\" tier contains 120 villagers\n",
    "- The \"Least Popular\" tier contains 163 villagers\n",
    "\n",
    "We will attempt to scrap the tier of each villager, as well as their ranking in each tier from the website. \n",
    "For this project, we will be using Python, Beautiful Soup, pathlib, and Selenium webdriver. \n",
    "\n",
    "### Brief Description\n",
    "From this project, I hope to obtain information about the popularity of each of the villagers. I will be combining the popularity data with another villager characteristic dataset , to see if there are any characteristics that correspond to higher villager popularity. \n",
    "\n"
   ]
  },
  {
   "cell_type": "markdown",
   "metadata": {},
   "source": [
    "### Outline: How are we going to extract them? \n",
    "\n",
    "- Obtain page https://www.animalcrossingportal.com/games/new-horizons/guides/villager-popularity-list.php#/\n",
    "- obtain villager information(rank, name and tier) from every tier, and store in dictionary\n",
    "- concatonate the tier dictionaries together to form a Dataframe of all tiers\n",
    "- convert Dataframe in csv file and store in \"/data\""
   ]
  },
  {
   "cell_type": "code",
   "execution_count": 1,
   "metadata": {},
   "outputs": [],
   "source": [
    "!pip install selenium --quiet"
   ]
  },
  {
   "cell_type": "markdown",
   "metadata": {},
   "source": [
    "#### Current Path:"
   ]
  },
  {
   "cell_type": "code",
   "execution_count": 13,
   "metadata": {},
   "outputs": [
    {
     "data": {
      "text/plain": [
       "'/Users/there/Desktop/acnh-scrapper'"
      ]
     },
     "execution_count": 13,
     "metadata": {},
     "output_type": "execute_result"
    }
   ],
   "source": [
    "from pathlib import Path\n",
    "cwd = Path().resolve()\n",
    "str(cwd)"
   ]
  },
  {
   "cell_type": "markdown",
   "metadata": {
    "tags": []
   },
   "source": [
    "### Initialize and Obtain page html\n",
    "- html page is initilized and stored into acnh_doc\n",
    "- function returns acnh_doc as BeautifulSoup object. "
   ]
  },
  {
   "cell_type": "code",
   "execution_count": 14,
   "metadata": {
    "scrolled": true
   },
   "outputs": [],
   "source": [
    "from selenium import webdriver\n",
    "from selenium.webdriver.chrome.service import Service\n",
    "from bs4 import BeautifulSoup\n",
    "from pathlib import Path\n",
    "\n",
    "def get_acnhpage(path):\n",
    "    # don't use executable_path as it is outdated?\n",
    "    driver_path = path+\"/chromedriver\"\n",
    "    service = Service(driver_path)\n",
    "    options = webdriver.ChromeOptions()\n",
    "    driver = webdriver.Chrome(service=service, options=options)\n",
    "    \n",
    "    url = \"https://www.animalcrossingportal.com/games/new-horizons/guides/villager-popularity-list.php#/\"\n",
    "    driver.get(url)\n",
    "    \n",
    "    acnh_doc = driver.page_source\n",
    "    acnh_doc = BeautifulSoup(acnh_doc, 'html.parser')\n",
    "    \n",
    "    return acnh_doc"
   ]
  },
  {
   "cell_type": "markdown",
   "metadata": {},
   "source": [
    "`get_acnhpage(path)` takes in the current file path, it also initializes the animal crossing villager popularity page html and returns the BeautifulSoup-ed html doc. "
   ]
  },
  {
   "cell_type": "markdown",
   "metadata": {},
   "source": [
    " ### Parses information from every tier\n",
    " - takes in acnh_doc file, and selects all tier tags\n",
    " - iterates through each tier(total=6) and obtain rank and names of villager in each tier \n",
    " - Create dictionary for each tier, and store villager rank and names.\n",
    " - returns a list of tier dictionaries. "
   ]
  },
  {
   "cell_type": "code",
   "execution_count": 15,
   "metadata": {},
   "outputs": [],
   "source": [
    "# returns dictionary list of tier info\n",
    "def get_tiers(acnh_doc):\n",
    "    tier_select = \"c-tier\"\n",
    "    # only first 6 tier lists are related to acnh\n",
    "    tier_tag = acnh_doc.find_all('div', {\"class\":tier_select})[:-3]\n",
    "\n",
    "    tier1 = {}\n",
    "    tier2 = {}\n",
    "    tier3 = {}\n",
    "    tier4 = {}\n",
    "    tier5 = {}\n",
    "    tier6 = {}\n",
    "    dict_list = [tier1, tier2, tier3, tier4, tier5, tier6]\n",
    "    \n",
    "    # pass in tier tags to get_villagers(tier_tag)\n",
    "    # store return\n",
    "    for tier in range(len(tier_tag)):\n",
    "        rank, name = get_villagers(tier_tag[tier])\n",
    "        dict_list[tier] = {\"rank\": rank,\n",
    "                           \"name\": name,\n",
    "                           \"tier\": tier+1}\n",
    "    return dict_list"
   ]
  },
  {
   "cell_type": "markdown",
   "metadata": {},
   "source": [
    "`get_tiers(acnh_doc)` takes html doc, by iterating through each tier tag and calling `get_villagers()`, returns a list of dictionaries containing villager data from each tier. "
   ]
  },
  {
   "cell_type": "markdown",
   "metadata": {},
   "source": [
    "### Parses villager info from each tier\n",
    "- takes in a tier tag, and selects all villager tags in the tier. \n",
    "- parses and returns rank and names of villager in tier.                 "
   ]
  },
  {
   "cell_type": "code",
   "execution_count": 16,
   "metadata": {
    "tags": []
   },
   "outputs": [],
   "source": [
    "# villager tag of ONE tier(tier 1)\n",
    "def get_villagers(tier):\n",
    "    villager_select = \"c-villager\"\n",
    "    villager_tag = tier.find_all(\"div\", {\"class\": villager_select})\n",
    "    \n",
    "    rank = []\n",
    "    name = []\n",
    "    \n",
    "    \n",
    "    for villager in villager_tag:\n",
    "        name_rank = villager.find_all(\"p\")\n",
    "        rank.append(name_rank[0].text)\n",
    "        name.append(name_rank[1].text)\n",
    "    \n",
    "    return rank, name"
   ]
  },
  {
   "cell_type": "markdown",
   "metadata": {},
   "source": [
    "`get_villagers` takes in a sinlge tier tag, and returns rank and names of villagers in tier. "
   ]
  },
  {
   "cell_type": "markdown",
   "metadata": {},
   "source": [
    "### Helper function: combines all tier dicts into one big df"
   ]
  },
  {
   "cell_type": "code",
   "execution_count": 17,
   "metadata": {},
   "outputs": [],
   "source": [
    "import pandas as pd\n",
    "# pass in list of dictoinaries(of tier list), returns combined df of all tiers. \n",
    "def concat_tiers(dict_list):\n",
    "    df = pd.DataFrame()\n",
    "    for tier in dict_list:\n",
    "        tier_df = pd.DataFrame(tier)\n",
    "        df = pd.concat([df, tier_df])\n",
    "    return df"
   ]
  },
  {
   "cell_type": "markdown",
   "metadata": {},
   "source": [
    "`concat_tiers` concats all tier dictionaries into a dataframe. "
   ]
  },
  {
   "cell_type": "markdown",
   "metadata": {},
   "source": [
    "### Putting it all together!\n",
    "- call `get_acnhpage(path)` to obtain html doc\n",
    "- pass html doc into get_tiers to obtain villager data from each tier. \n",
    "- combine all tier data to from a Full Dataframe of all villager data. \n",
    "- store Dataframe into csv file. "
   ]
  },
  {
   "cell_type": "code",
   "execution_count": 18,
   "metadata": {
    "scrolled": true
   },
   "outputs": [],
   "source": [
    "def scrape_acnh():\n",
    "    # initializes driver and page doc. \n",
    "    path = str(Path().resolve())\n",
    "    acnh_doc = get_acnhpage(path)\n",
    "    \n",
    "    # obtains data from all tiers in a list of dictionaries. \n",
    "    tiers_dict_list = get_tiers(acnh_doc)\n",
    "    \n",
    "    acnh_villagers_df = concat_tiers(tiers_dict_list)\n",
    "    \n",
    "    acnh_villagers_df.to_csv(path+\"/acnh_villager_data.csv\", index=None)\n",
    "    return acnh_villagers_df"
   ]
  },
  {
   "cell_type": "code",
   "execution_count": 19,
   "metadata": {},
   "outputs": [
    {
     "data": {
      "text/html": [
       "<div>\n",
       "<style scoped>\n",
       "    .dataframe tbody tr th:only-of-type {\n",
       "        vertical-align: middle;\n",
       "    }\n",
       "\n",
       "    .dataframe tbody tr th {\n",
       "        vertical-align: top;\n",
       "    }\n",
       "\n",
       "    .dataframe thead th {\n",
       "        text-align: right;\n",
       "    }\n",
       "</style>\n",
       "<table border=\"1\" class=\"dataframe\">\n",
       "  <thead>\n",
       "    <tr style=\"text-align: right;\">\n",
       "      <th></th>\n",
       "      <th>rank</th>\n",
       "      <th>name</th>\n",
       "      <th>tier</th>\n",
       "    </tr>\n",
       "  </thead>\n",
       "  <tbody>\n",
       "    <tr>\n",
       "      <th>0</th>\n",
       "      <td>1</td>\n",
       "      <td>Raymond</td>\n",
       "      <td>1</td>\n",
       "    </tr>\n",
       "    <tr>\n",
       "      <th>1</th>\n",
       "      <td>2</td>\n",
       "      <td>Marshal</td>\n",
       "      <td>1</td>\n",
       "    </tr>\n",
       "    <tr>\n",
       "      <th>2</th>\n",
       "      <td>3</td>\n",
       "      <td>Shino</td>\n",
       "      <td>1</td>\n",
       "    </tr>\n",
       "    <tr>\n",
       "      <th>3</th>\n",
       "      <td>4</td>\n",
       "      <td>Sherb</td>\n",
       "      <td>1</td>\n",
       "    </tr>\n",
       "    <tr>\n",
       "      <th>4</th>\n",
       "      <td>5</td>\n",
       "      <td>Sasha</td>\n",
       "      <td>1</td>\n",
       "    </tr>\n",
       "    <tr>\n",
       "      <th>...</th>\n",
       "      <td>...</td>\n",
       "      <td>...</td>\n",
       "      <td>...</td>\n",
       "    </tr>\n",
       "    <tr>\n",
       "      <th>158</th>\n",
       "      <td>159</td>\n",
       "      <td>Rocco</td>\n",
       "      <td>6</td>\n",
       "    </tr>\n",
       "    <tr>\n",
       "      <th>159</th>\n",
       "      <td>160</td>\n",
       "      <td>Bettina</td>\n",
       "      <td>6</td>\n",
       "    </tr>\n",
       "    <tr>\n",
       "      <th>160</th>\n",
       "      <td>161</td>\n",
       "      <td>Boris</td>\n",
       "      <td>6</td>\n",
       "    </tr>\n",
       "    <tr>\n",
       "      <th>161</th>\n",
       "      <td>162</td>\n",
       "      <td>Bitty</td>\n",
       "      <td>6</td>\n",
       "    </tr>\n",
       "    <tr>\n",
       "      <th>162</th>\n",
       "      <td>163</td>\n",
       "      <td>Velma</td>\n",
       "      <td>6</td>\n",
       "    </tr>\n",
       "  </tbody>\n",
       "</table>\n",
       "<p>413 rows × 3 columns</p>\n",
       "</div>"
      ],
      "text/plain": [
       "    rank     name  tier\n",
       "0      1  Raymond     1\n",
       "1      2  Marshal     1\n",
       "2      3    Shino     1\n",
       "3      4    Sherb     1\n",
       "4      5    Sasha     1\n",
       "..   ...      ...   ...\n",
       "158  159    Rocco     6\n",
       "159  160  Bettina     6\n",
       "160  161    Boris     6\n",
       "161  162    Bitty     6\n",
       "162  163    Velma     6\n",
       "\n",
       "[413 rows x 3 columns]"
      ]
     },
     "execution_count": 19,
     "metadata": {},
     "output_type": "execute_result"
    }
   ],
   "source": [
    "scrape_acnh()"
   ]
  },
  {
   "cell_type": "markdown",
   "metadata": {},
   "source": [
    "## Reference and Summary\n",
    "- Summary: we parsed information from [ACNH villager popularity page.], (https://www.animalcrossingportal.com/games/new-horizons/guides/villager-popularity-list.php#/), and stored villager info in csv file. \n",
    "- Ideas for future projects: the follow up to this project is a EDA I will be performing on this dataset in combination with another Animal Crossing Dataset. \n",
    "\n",
    "### Reflection:\n",
    "This was a relatively small and easy web scrapping project, it was also my introduction to Selenium, and it's many capabilities. Unfortunately none of it's higher functionalities came into use in this mini-project. In future proejcts I wish to make use and familiarize myself with Selenium. \n"
   ]
  },
  {
   "cell_type": "code",
   "execution_count": 24,
   "metadata": {},
   "outputs": [],
   "source": [
    "!pip install jovian --quiet"
   ]
  },
  {
   "cell_type": "code",
   "execution_count": 25,
   "metadata": {},
   "outputs": [
    {
     "data": {
      "application/javascript": [
       "window.require && require([\"base/js/namespace\"],function(Jupyter){Jupyter.notebook.save_checkpoint()})"
      ],
      "text/plain": [
       "<IPython.core.display.Javascript object>"
      ]
     },
     "metadata": {},
     "output_type": "display_data"
    },
    {
     "name": "stdout",
     "output_type": "stream",
     "text": [
      "[jovian] Updating notebook \"ampiiere/acnh-scrapper\" on https://jovian.ai/\u001b[0m\n",
      "[jovian] Uploading additional outputs...\u001b[0m\n",
      "[jovian] Committed successfully! https://jovian.ai/ampiiere/acnh-scrapper\u001b[0m\n"
     ]
    },
    {
     "data": {
      "text/plain": [
       "'https://jovian.ai/ampiiere/acnh-scrapper'"
      ]
     },
     "execution_count": 25,
     "metadata": {},
     "output_type": "execute_result"
    }
   ],
   "source": [
    "import jovian\n",
    "jovian.commit(filename='acnh-scrapper.ipynb', outputs=[\"acnh_villager_data.csv\"])"
   ]
  },
  {
   "cell_type": "code",
   "execution_count": null,
   "metadata": {},
   "outputs": [],
   "source": []
  }
 ],
 "metadata": {
  "kernelspec": {
   "display_name": "Python 3 (ipykernel)",
   "language": "python",
   "name": "python3"
  },
  "language_info": {
   "codemirror_mode": {
    "name": "ipython",
    "version": 3
   },
   "file_extension": ".py",
   "mimetype": "text/x-python",
   "name": "python",
   "nbconvert_exporter": "python",
   "pygments_lexer": "ipython3",
   "version": "3.8.8"
  }
 },
 "nbformat": 4,
 "nbformat_minor": 4
}
